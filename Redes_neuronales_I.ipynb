{
  "nbformat": 4,
  "nbformat_minor": 0,
  "metadata": {
    "colab": {
      "provenance": [],
      "authorship_tag": "ABX9TyOdkPU7/01MqyAfqjVJU7s+",
      "include_colab_link": true
    },
    "kernelspec": {
      "name": "python3",
      "display_name": "Python 3"
    },
    "language_info": {
      "name": "python"
    }
  },
  "cells": [
    {
      "cell_type": "markdown",
      "metadata": {
        "id": "view-in-github",
        "colab_type": "text"
      },
      "source": [
        "<a href=\"https://colab.research.google.com/github/EAFIT-BI/Supervised-Learning-2024-II/blob/main/Redes_neuronales_I.ipynb\" target=\"_parent\"><img src=\"https://colab.research.google.com/assets/colab-badge.svg\" alt=\"Open In Colab\"/></a>"
      ]
    },
    {
      "cell_type": "markdown",
      "source": [
        "# Redes Neuronales"
      ],
      "metadata": {
        "id": "ugFqMSFh40b4"
      }
    },
    {
      "cell_type": "markdown",
      "source": [
        "## Vectorización"
      ],
      "metadata": {
        "id": "aGv3m-1K-Bjd"
      }
    },
    {
      "cell_type": "markdown",
      "source": [
        "Un elemento importante de los *frameworks* de trabajo para redes neuronales y es la **vectorización**. Para entender este concepto, haremos un ejemplo"
      ],
      "metadata": {
        "id": "Z9UfRcVw-DzD"
      }
    },
    {
      "cell_type": "code",
      "source": [
        "#por ejemplo, para el cálculo de la red entrada de un perceptrón\n",
        "\n",
        "#definimos, por ejemplo, tres entradas\n",
        "\n",
        "x0, x1, x2 = 1., 2., 3.\n",
        "bias, w1, w2 = 0.1, 0.2, 0.3\n",
        "\n",
        "x = [x0, x1, x2]\n",
        "w = [bias, w1, w2]\n",
        "#si fuésemos a calcular la salida de forma tradicional, tendríamos que usar\n",
        "#un ciclo\n",
        "\n",
        "\n",
        "z = 0 #inicializamos la salida con 0\n",
        "\n",
        "for i in range(len(x)):\n",
        "    z += x[i]*w[i]\n",
        "\n",
        "print(z)"
      ],
      "metadata": {
        "colab": {
          "base_uri": "https://localhost:8080/"
        },
        "id": "XkuoLsji-QlE",
        "outputId": "12ae2cc5-a343-4645-fa98-29d7d18a131d"
      },
      "execution_count": 1,
      "outputs": [
        {
          "output_type": "stream",
          "name": "stdout",
          "text": [
            "1.4\n"
          ]
        }
      ]
    },
    {
      "cell_type": "code",
      "source": [
        "#por comprehension (sigue siendo una operación no vectorizada pero\n",
        "#se resume en una sola línea de código)\n",
        "\n",
        "z = sum(x_i * w_i for x_i, w_i in zip(x, w))\n",
        "print(z)"
      ],
      "metadata": {
        "colab": {
          "base_uri": "https://localhost:8080/"
        },
        "id": "8rokfM1i_o6_",
        "outputId": "5f7ed788-6f01-427c-a0f1-9da6fb1b542b"
      },
      "execution_count": 2,
      "outputs": [
        {
          "output_type": "stream",
          "name": "stdout",
          "text": [
            "1.4\n"
          ]
        }
      ]
    },
    {
      "cell_type": "code",
      "source": [
        "#en forma de vectorización, se haría así (trabajo en paralelo)\n",
        "import numpy as np\n",
        "\n",
        "#inicialmente, x y w son listas, necesitamos convertirlas en arreglos numéricos\n",
        "x_vec, w_vec = np.array(x), np.array(w)\n",
        "\n",
        "z = np.dot(x_vec, w_vec)\n",
        "print(z)"
      ],
      "metadata": {
        "colab": {
          "base_uri": "https://localhost:8080/"
        },
        "id": "_ztsGPMaAShA",
        "outputId": "6e8f8cd8-4b1c-4deb-d29a-1b9e3d9fab33"
      },
      "execution_count": 3,
      "outputs": [
        {
          "output_type": "stream",
          "name": "stdout",
          "text": [
            "1.4\n"
          ]
        }
      ]
    },
    {
      "cell_type": "markdown",
      "source": [
        "## Implementación de un perceptrón con `PyTorch`"
      ],
      "metadata": {
        "id": "Z0vDjHgkBf6z"
      }
    },
    {
      "cell_type": "code",
      "source": [
        "#importamos las librerías necesarias\n",
        "import numpy as np\n",
        "import matplotlib.pyplot as plt\n",
        "import torch\n",
        "%matplotlib inline"
      ],
      "metadata": {
        "id": "J1eiqr_gBohk"
      },
      "execution_count": 4,
      "outputs": []
    },
    {
      "cell_type": "code",
      "source": [
        "#cargamos la base de datos\n",
        "data = np.genfromtxt('perceptron_toydata.txt', delimiter = '\\t')"
      ],
      "metadata": {
        "id": "T0YtqjGzCNdH"
      },
      "execution_count": 5,
      "outputs": []
    },
    {
      "cell_type": "code",
      "source": [
        "#separamos los datos de la etiqueta\n",
        "X, y = data[:, :2], data[:, 2]\n",
        "\n",
        "#castiamos el tipo de dato de y para que sea entero\n",
        "y = y.astype(int)"
      ],
      "metadata": {
        "id": "iNY0vyBhCfR3"
      },
      "execution_count": 6,
      "outputs": []
    },
    {
      "cell_type": "code",
      "source": [
        "#vamos a generar la partición para train y test\n",
        "#primero generamos los índices aleatorios para cada conjunto\n",
        "shuffle_idx = np.arange(y.shape[0])\n",
        "shuffle_rng = np.random.RandomState(seed = 123)\n",
        "shuffle_rng.shuffle(shuffle_idx)\n",
        "\n",
        "#reasignamos X e y\n",
        "X, y = X[shuffle_idx], y[shuffle_idx]\n",
        "\n",
        "#generamos la separación de los conjuntos\n",
        "X_train, y_train = X[shuffle_idx[:70]], y[shuffle_idx[:70]]\n",
        "X_test, y_test = X[shuffle_idx[70:]], y[shuffle_idx[70:]]"
      ],
      "metadata": {
        "id": "2_wWVIqaC_mF"
      },
      "execution_count": 7,
      "outputs": []
    },
    {
      "cell_type": "code",
      "source": [
        "#aplicamos estandarización como preprocesamiento\n",
        "from sklearn.preprocessing import StandardScaler\n",
        "\n",
        "scaler = StandardScaler()\n",
        "X_train = scaler.fit_transform(X_train)\n",
        "X_test = scaler.transform(X_test)"
      ],
      "metadata": {
        "id": "J_jW5EOhEspc"
      },
      "execution_count": 8,
      "outputs": []
    },
    {
      "cell_type": "code",
      "source": [
        "#graficamos  para observar la distribución de los datos\n",
        "plt.scatter(X_train[y_train == 0, 0], X_train[y_train == 0, 1],\n",
        "            label = 'Clase 0', marker = 'o')\n",
        "plt.scatter(X_train[y_train == 1, 0], X_train[y_train == 1, 1],\n",
        "            label = 'Clase 1', marker = 's')\n",
        "plt.title('Datos de entrenamiento')\n",
        "plt.legend()\n",
        "plt.xlabel('Característica 1')\n",
        "plt.ylabel('Característica 2')\n",
        "plt.xlim([-3,3])\n",
        "plt.ylim([-3,3])\n",
        "plt.show()"
      ],
      "metadata": {
        "id": "afZGVwjvE2ks"
      },
      "execution_count": null,
      "outputs": []
    },
    {
      "cell_type": "code",
      "source": [
        "#graficamos  para observar la distribución de los datos\n",
        "plt.scatter(X_test[y_test == 0, 0], X_test[y_test == 0, 1],\n",
        "            label = 'Clase 0', marker = 'o')\n",
        "plt.scatter(X_test[y_test == 1, 0], X_test[y_test == 1, 1],\n",
        "            label = 'Clase 1', marker = 's')\n",
        "plt.title('Datos de prueba')\n",
        "plt.legend()\n",
        "plt.xlabel('Característica 1')\n",
        "plt.ylabel('Característica 2')\n",
        "plt.xlim([-3,3])\n",
        "plt.ylim([-3,3])\n",
        "plt.show()"
      ],
      "metadata": {
        "colab": {
          "base_uri": "https://localhost:8080/",
          "height": 472
        },
        "id": "s4Lhg5MfG76m",
        "outputId": "916d7c16-737a-4344-f5aa-5ac54446b943"
      },
      "execution_count": 10,
      "outputs": [
        {
          "output_type": "display_data",
          "data": {
            "text/plain": [
              "<Figure size 640x480 with 1 Axes>"
            ],
            "image/png": "[encoded data removed]"
          },
          "metadata": {}
        }
      ]
    }
  ]
}