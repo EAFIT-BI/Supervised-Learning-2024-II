{
  "nbformat": 4,
  "nbformat_minor": 0,
  "metadata": {
    "colab": {
      "provenance": [],
      "authorship_tag": "ABX9TyP0QRoyIu7GRHe4MzGsFYTD",
      "include_colab_link": true
    },
    "kernelspec": {
      "name": "python3",
      "display_name": "Python 3"
    },
    "language_info": {
      "name": "python"
    }
  },
  "cells": [
    {
      "cell_type": "markdown",
      "metadata": {
        "id": "view-in-github",
        "colab_type": "text"
      },
      "source": [
        "<a href=\"https://colab.research.google.com/github/EAFIT-BI/Supervised-Learning-2024-II/blob/main/Modelos_de_regresi%C3%B3n_regularizados.ipynb\" target=\"_parent\"><img src=\"https://colab.research.google.com/assets/colab-badge.svg\" alt=\"Open In Colab\"/></a>"
      ]
    },
    {
      "cell_type": "markdown",
      "source": [
        "#Modelos de regresión regularizados"
      ],
      "metadata": {
        "id": "4c_QHKZMqFF4"
      }
    },
    {
      "cell_type": "markdown",
      "source": [
        "La regularización es una estrategia para reducir la complejidad de los modelos a través del control del tamaño de sus coeficientes. En el caso de la regularización **Lasso** o $L_1$, se anulan algunos coeficientes, mientras en **Ridge** o $L_2$ se le asignan valores muy pequeños"
      ],
      "metadata": {
        "id": "nncY3NYlq9nA"
      }
    },
    {
      "cell_type": "code",
      "source": [
        "#importamos las librerías iniciales\n",
        "import pandas as pd\n",
        "import numpy as np\n",
        "import matplotlib.pyplot as plt"
      ],
      "metadata": {
        "id": "f2TGMYHxqp4g"
      },
      "execution_count": 1,
      "outputs": []
    },
    {
      "cell_type": "code",
      "source": [
        "#para ejemplificar, trabajaremos con el toyset de la regresión lineal\n",
        "\n",
        "X = np.linspace(-1, 1, 1000)\n",
        "ruido = np.random.normal(0, 0.333, 1000)\n",
        "\n",
        "y = np.sin(4*X) + np.cos(3*X) + ruido\n",
        "\n",
        "#graficamos el toyset\n",
        "plt.plot(X, y, '.');"
      ],
      "metadata": {
        "id": "ZefkvoXFrn_B"
      },
      "execution_count": null,
      "outputs": []
    },
    {
      "cell_type": "code",
      "source": [
        "#vamos a ajustar el modelo como lo hicimos en el caso de la regresión múltiple\n",
        "#con el polinomio de grado 5\n",
        "\n",
        "#importamos las librerías adicionales\n",
        "from sklearn.model_selection import cross_val_score #para la validación cruzada\n",
        "from sklearn.pipeline import Pipeline #para generar el pipeline de procesamiento\n",
        "from sklearn.preprocessing import PolynomialFeatures #para generar las características polinómicas\n",
        "from sklearn.linear_model import LinearRegression #para el modelo de regresión"
      ],
      "metadata": {
        "id": "XZAyzDm0senC"
      },
      "execution_count": 3,
      "outputs": []
    },
    {
      "cell_type": "code",
      "source": [
        "#reorganizamos las dimensiones de X\n",
        "X = X.reshape(-1, 1)\n",
        "\n",
        "#generamos el pipeline\n",
        "pipe = Pipeline([('poly', PolynomialFeatures()),\n",
        "                 ('model', LinearRegression(fit_intercept = True))])\n",
        "\n",
        "#generamos los posibles grados del polinomio para que sean sintonizados\n",
        "degrees = range(2,16)\n",
        "\n",
        "#inicializamos la lista de scores que será nuestra métrica de calidad del modelo\n",
        "scores = []\n",
        "\n",
        "#inicializamos la lista del promedio de los scores\n",
        "mean_scores = []"
      ],
      "metadata": {
        "id": "BgCVHualtMeV"
      },
      "execution_count": 10,
      "outputs": []
    },
    {
      "cell_type": "code",
      "source": [
        "#construimos el ciclo para recorrer los hiperparámetros (en este caso solo el grado)\n",
        "#con la validación cruzada, calculando el score para cada uno de ellos\n",
        "\n",
        "for degree in degrees:\n",
        "  score = cross_val_score(estimator = pipe.set_params(poly__degree = degree),\n",
        "                          X = X, y = y, cv = 5, scoring = 'neg_mean_squared_error')\n",
        "  scores.append(score)\n",
        "  mean_scores.append(-score.mean())"
      ],
      "metadata": {
        "id": "gEGvbPSUuPC5"
      },
      "execution_count": 11,
      "outputs": []
    },
    {
      "cell_type": "code",
      "source": [
        "#visualizamos el resultado\n",
        "plt.plot(degrees, mean_scores, '-');"
      ],
      "metadata": {
        "id": "TSbFog-awn21"
      },
      "execution_count": null,
      "outputs": []
    },
    {
      "cell_type": "code",
      "source": [
        "#numéricamente, tendremos el siguiente RMSE\n",
        "\n",
        "print(f'El mejor RMSE para el conjunto de entrenamiento es {min(mean_scores):.2f}')"
      ],
      "metadata": {
        "colab": {
          "base_uri": "https://localhost:8080/"
        },
        "id": "udmzV7icyqC5",
        "outputId": "a32a5be0-4567-4e58-a466-40da46361c93"
      },
      "execution_count": 16,
      "outputs": [
        {
          "output_type": "stream",
          "name": "stdout",
          "text": [
            "El mejor RMSE para el conjunto de entrenamiento es 0.15\n"
          ]
        }
      ]
    },
    {
      "cell_type": "markdown",
      "source": [
        "# Sintonización de parámetros"
      ],
      "metadata": {
        "id": "TuARG3WtzwCp"
      }
    },
    {
      "cell_type": "markdown",
      "source": [
        "Vamos a aplicar la regularización al modelo para ver si mejora el desempeño. En este caso tendremos que sintonizar el parámetro $\\lambda \\in [0, \\infty)$"
      ],
      "metadata": {
        "id": "GcXpV9Vzz0kq"
      }
    },
    {
      "cell_type": "markdown",
      "source": [
        "## Regularización $L_2$ (Ridge)"
      ],
      "metadata": {
        "id": "Yx1Hqbkl0H-j"
      }
    },
    {
      "cell_type": "code",
      "source": [
        "#importamos librerías adicionales\n",
        "from sklearn.linear_model import Ridge #para el modelo de regresión Ridge\n",
        "from sklearn.metrics import mean_squared_error #para calcular el RMSE\n",
        "from sklearn.model_selection import train_test_split #para dividir el conjunto de entrenamiento y prueba"
      ],
      "metadata": {
        "id": "_qFv05qB0M85"
      },
      "execution_count": 18,
      "outputs": []
    },
    {
      "cell_type": "code",
      "source": [
        "#realizamos la participación de los datos en datos de entrenamiento y datos de prueba\n",
        "X_train, X_test, y_train, y_test = train_test_split(X, y,\n",
        "                                                    test_size = 0.2,\n",
        "                                                    random_state = 5)"
      ],
      "metadata": {
        "id": "ODvyY_DA0k4w"
      },
      "execution_count": 19,
      "outputs": []
    },
    {
      "cell_type": "code",
      "source": [
        "#generamos las características polinómicas, ya que el grado ya está sintonizado\n",
        "poly = PolynomialFeatures(degree = 5)\n",
        "X_train_p = poly.fit_transform(X_train) #X_train polinómico\n",
        "\n",
        "#instanciar el modelo\n",
        "model = Ridge()\n",
        "\n",
        "#generamos los posibles valores de lambda (al que llamaremos alpha) para la regularización\n",
        "alpha = np.logspace(-4,2)\n",
        "\n",
        "#creamos un diccionario con todos los hiperparámetros a sintonizar\n",
        "grid = dict(alpha = alpha)\n",
        "\n",
        "#importamos librerías adicionales\n",
        "from sklearn.model_selection import GridSearchCV\n",
        "\n",
        "#instanciamos la búsqueda por grid o exhaustiva\n",
        "grid_search = GridSearchCV(estimator = model, param_grid = grid,\n",
        "                           n_jobs = 1, cv = 5, scoring = 'neg_mean_squared_error')\n",
        "\n",
        "#generamos la búsqueda con el conjunto de entrenamiento\n",
        "grid_result = grid_search.fit(X_train_p, y_train)"
      ],
      "metadata": {
        "id": "CVVUvos-1GnY"
      },
      "execution_count": 20,
      "outputs": []
    },
    {
      "cell_type": "code",
      "source": [
        "#extraemos el valor del hiperparámetro sintonizado\n",
        "best_alpha = grid_result.best_params_['alpha']\n",
        "\n",
        "#visualizamos la información\n",
        "print(f'El mejor RMSE fue de {-grid_result.best_score_:.2f}, con un lambda de {best_alpha}')\n"
      ],
      "metadata": {
        "colab": {
          "base_uri": "https://localhost:8080/"
        },
        "id": "fa41Tg1F4mg2",
        "outputId": "030b5bd9-3d66-4a49-a825-011c95a5575b"
      },
      "execution_count": 21,
      "outputs": [
        {
          "output_type": "stream",
          "name": "stdout",
          "text": [
            "El mejor RMSE fue de 0.12, con un lambda de 0.0001\n"
          ]
        }
      ]
    },
    {
      "cell_type": "code",
      "source": [
        "#ahora evaluamos el modelo con el conjunto de test o los datos de prueba\n",
        "\n",
        "#tomamos el mejor modelo de la búsqueda\n",
        "best_model = grid_search.best_estimator_\n",
        "\n",
        "#transformamos los datos de prueba a las características polinómicas\n",
        "X_test_p = poly.transform(X_test)\n",
        "\n",
        "#aplicamos el modelo a los datos de prueba\n",
        "y_pred = best_model.predict(X_test_p)\n",
        "\n",
        "#calculamos el RMSE\n",
        "RMSE = mean_squared_error(y_test, y_pred)\n",
        "\n",
        "#visualizamos el resultado\n",
        "print(f'El RMSE para el conjunto de prueba es {RMSE:.2f}')"
      ],
      "metadata": {
        "colab": {
          "base_uri": "https://localhost:8080/"
        },
        "id": "2eDbbbVL5fTu",
        "outputId": "6b298902-1f4e-49c9-e26a-40430454861f"
      },
      "execution_count": 22,
      "outputs": [
        {
          "output_type": "stream",
          "name": "stdout",
          "text": [
            "El RMSE para el conjunto de prueba es 0.12\n"
          ]
        }
      ]
    },
    {
      "cell_type": "code",
      "source": [
        "#gráficamente, tendremos:\n",
        "\n",
        "plt.plot(X_test, y_test, '.', label = 'Real' );\n",
        "plt.plot(X_test, y_pred, '.r', label = 'Estimado');\n",
        "plt.legend();"
      ],
      "metadata": {
        "colab": {
          "base_uri": "https://localhost:8080/",
          "height": 430
        },
        "id": "1XTPV4W56mKR",
        "outputId": "0c82eb0e-6b8e-441a-c8ea-885eea52315b"
      },
      "execution_count": 24,
      "outputs": [
        {
          "output_type": "display_data",
          "data": {
            "text/plain": [
              "<Figure size 640x480 with 1 Axes>"
            ],
            "image/png": "[encoded data removed]"
          },
          "metadata": {}
        }
      ]
    },
    {
      "cell_type": "markdown",
      "source": [
        "# Ejemplo\n",
        "\n",
        "Cargar el archio `auto-mpg.data`. Asigna a las columnas los nombres indicados en el archivo `auto-mpg.names`. Configura como índice la variable `car_name`.\n",
        "\n",
        "Realiza el modelo de regresión Ridge que prediga la variable `mpg` usando todas las demás variables como predictoras. Para ello realiza una partición de los datos en subconjuntos de entrenamiento y prueba con una proporción de 70/30, usando `random_state = 1`.\n",
        "\n",
        "Reporta el valor de $\\lambda$ encontrado, el RMSE de entrenamiento y el de prueba y los pesos del modelo.\n",
        "\n",
        "Repite este ejercicio con un modelo de regresión Lasso."
      ],
      "metadata": {
        "id": "pfPsGJEb7E24"
      }
    },
    {
      "cell_type": "code",
      "source": [
        "#cargamos el archivo\n",
        "import pandas as pd\n",
        "import numpy as npf\n",
        "import matplotlib.pyplot as plt\n",
        "\n",
        "carros = pd.read_csv('auto-mpg.data', sep = '\\s+', header = None,\n",
        "                     na_values = ['?'], names = ['mpg', 'cylinders',\n",
        "                                                 'displacement', 'horsepower',\n",
        "                                                 'weight', 'acceleration',\n",
        "                                                 'model_year', 'origin', 'car_name'])\n"
      ],
      "metadata": {
        "id": "VAjoiD6S8AIX"
      },
      "execution_count": 50,
      "outputs": []
    },
    {
      "cell_type": "code",
      "source": [
        "carros.head()"
      ],
      "metadata": {
        "colab": {
          "base_uri": "https://localhost:8080/",
          "height": 206
        },
        "id": "vO1iLySS_XAo",
        "outputId": "70fae912-60fd-4d63-df49-31446e8cd9e9"
      },
      "execution_count": 45,
      "outputs": [
        {
          "output_type": "execute_result",
          "data": {
            "text/plain": [
              "    mpg  cylinders  displacement  horsepower  weight  acceleration  \\\n",
              "0  18.0          8         307.0       130.0  3504.0          12.0   \n",
              "1  15.0          8         350.0       165.0  3693.0          11.5   \n",
              "2  18.0          8         318.0       150.0  3436.0          11.0   \n",
              "3  16.0          8         304.0       150.0  3433.0          12.0   \n",
              "4  17.0          8         302.0       140.0  3449.0          10.5   \n",
              "\n",
              "   model_year  origin                   car_name  \n",
              "0          70       1  chevrolet chevelle malibu  \n",
              "1          70       1          buick skylark 320  \n",
              "2          70       1         plymouth satellite  \n",
              "3          70       1              amc rebel sst  \n",
              "4          70       1                ford torino  "
            ],
            "text/html": [
              "\n",
              "  <div id=\"df-9be138c5-7021-403e-81fd-3da89360ba42\" class=\"colab-df-container\">\n",
              "    <div>\n",
              "<style scoped>\n",
              "    .dataframe tbody tr th:only-of-type {\n",
              "        vertical-align: middle;\n",
              "    }\n",
              "\n",
              "    .dataframe tbody tr th {\n",
              "        vertical-align: top;\n",
              "    }\n",
              "\n",
              "    .dataframe thead th {\n",
              "        text-align: right;\n",
              "    }\n",
              "</style>\n",
              "<table border=\"1\" class=\"dataframe\">\n",
              "  <thead>\n",
              "    <tr style=\"text-align: right;\">\n",
              "      <th></th>\n",
              "      <th>mpg</th>\n",
              "      <th>cylinders</th>\n",
              "      <th>displacement</th>\n",
              "      <th>horsepower</th>\n",
              "      <th>weight</th>\n",
              "      <th>acceleration</th>\n",
              "      <th>model_year</th>\n",
              "      <th>origin</th>\n",
              "      <th>car_name</th>\n",
              "    </tr>\n",
              "  </thead>\n",
              "  <tbody>\n",
              "    <tr>\n",
              "      <th>0</th>\n",
              "      <td>18.0</td>\n",
              "      <td>8</td>\n",
              "      <td>307.0</td>\n",
              "      <td>130.0</td>\n",
              "      <td>3504.0</td>\n",
              "      <td>12.0</td>\n",
              "      <td>70</td>\n",
              "      <td>1</td>\n",
              "      <td>chevrolet chevelle malibu</td>\n",
              "    </tr>\n",
              "    <tr>\n",
              "      <th>1</th>\n",
              "      <td>15.0</td>\n",
              "      <td>8</td>\n",
              "      <td>350.0</td>\n",
              "      <td>165.0</td>\n",
              "      <td>3693.0</td>\n",
              "      <td>11.5</td>\n",
              "      <td>70</td>\n",
              "      <td>1</td>\n",
              "      <td>buick skylark 320</td>\n",
              "    </tr>\n",
              "    <tr>\n",
              "      <th>2</th>\n",
              "      <td>18.0</td>\n",
              "      <td>8</td>\n",
              "      <td>318.0</td>\n",
              "      <td>150.0</td>\n",
              "      <td>3436.0</td>\n",
              "      <td>11.0</td>\n",
              "      <td>70</td>\n",
              "      <td>1</td>\n",
              "      <td>plymouth satellite</td>\n",
              "    </tr>\n",
              "    <tr>\n",
              "      <th>3</th>\n",
              "      <td>16.0</td>\n",
              "      <td>8</td>\n",
              "      <td>304.0</td>\n",
              "      <td>150.0</td>\n",
              "      <td>3433.0</td>\n",
              "      <td>12.0</td>\n",
              "      <td>70</td>\n",
              "      <td>1</td>\n",
              "      <td>amc rebel sst</td>\n",
              "    </tr>\n",
              "    <tr>\n",
              "      <th>4</th>\n",
              "      <td>17.0</td>\n",
              "      <td>8</td>\n",
              "      <td>302.0</td>\n",
              "      <td>140.0</td>\n",
              "      <td>3449.0</td>\n",
              "      <td>10.5</td>\n",
              "      <td>70</td>\n",
              "      <td>1</td>\n",
              "      <td>ford torino</td>\n",
              "    </tr>\n",
              "  </tbody>\n",
              "</table>\n",
              "</div>\n",
              "    <div class=\"colab-df-buttons\">\n",
              "\n",
              "  <div class=\"colab-df-container\">\n",
              "    <button class=\"colab-df-convert\" onclick=\"convertToInteractive('df-9be138c5-7021-403e-81fd-3da89360ba42')\"\n",
              "            title=\"Convert this dataframe to an interactive table.\"\n",
              "            style=\"display:none;\">\n",
              "\n",
              "  <svg xmlns=\"http://www.w3.org/2000/svg\" height=\"24px\" viewBox=\"0 -960 960 960\">\n",
              "    <path d=\"M120-120v-720h720v720H120Zm60-500h600v-160H180v160Zm220 220h160v-160H400v160Zm0 220h160v-160H400v160ZM180-400h160v-160H180v160Zm440 0h160v-160H620v160ZM180-180h160v-160H180v160Zm440 0h160v-160H620v160Z\"/>\n",
              "  </svg>\n",
              "    </button>\n",
              "\n",
              "  <style>\n",
              "    .colab-df-container {\n",
              "      display:flex;\n",
              "      gap: 12px;\n",
              "    }\n",
              "\n",
              "    .colab-df-convert {\n",
              "      background-color: #E8F0FE;\n",
              "      border: none;\n",
              "      border-radius: 50%;\n",
              "      cursor: pointer;\n",
              "      display: none;\n",
              "      fill: #1967D2;\n",
              "      height: 32px;\n",
              "      padding: 0 0 0 0;\n",
              "      width: 32px;\n",
              "    }\n",
              "\n",
              "    .colab-df-convert:hover {\n",
              "      background-color: #E2EBFA;\n",
              "      box-shadow: 0px 1px 2px rgba(60, 64, 67, 0.3), 0px 1px 3px 1px rgba(60, 64, 67, 0.15);\n",
              "      fill: #174EA6;\n",
              "    }\n",
              "\n",
              "    .colab-df-buttons div {\n",
              "      margin-bottom: 4px;\n",
              "    }\n",
              "\n",
              "    [theme=dark] .colab-df-convert {\n",
              "      background-color: #3B4455;\n",
              "      fill: #D2E3FC;\n",
              "    }\n",
              "\n",
              "    [theme=dark] .colab-df-convert:hover {\n",
              "      background-color: #434B5C;\n",
              "      box-shadow: 0px 1px 3px 1px rgba(0, 0, 0, 0.15);\n",
              "      filter: drop-shadow(0px 1px 2px rgba(0, 0, 0, 0.3));\n",
              "      fill: #FFFFFF;\n",
              "    }\n",
              "  </style>\n",
              "\n",
              "    <script>\n",
              "      const buttonEl =\n",
              "        document.querySelector('#df-9be138c5-7021-403e-81fd-3da89360ba42 button.colab-df-convert');\n",
              "      buttonEl.style.display =\n",
              "        google.colab.kernel.accessAllowed ? 'block' : 'none';\n",
              "\n",
              "      async function convertToInteractive(key) {\n",
              "        const element = document.querySelector('#df-9be138c5-7021-403e-81fd-3da89360ba42');\n",
              "        const dataTable =\n",
              "          await google.colab.kernel.invokeFunction('convertToInteractive',\n",
              "                                                    [key], {});\n",
              "        if (!dataTable) return;\n",
              "\n",
              "        const docLinkHtml = 'Like what you see? Visit the ' +\n",
              "          '<a target=\"_blank\" href=https://colab.research.google.com/notebooks/data_table.ipynb>data table notebook</a>'\n",
              "          + ' to learn more about interactive tables.';\n",
              "        element.innerHTML = '';\n",
              "        dataTable['output_type'] = 'display_data';\n",
              "        await google.colab.output.renderOutput(dataTable, element);\n",
              "        const docLink = document.createElement('div');\n",
              "        docLink.innerHTML = docLinkHtml;\n",
              "        element.appendChild(docLink);\n",
              "      }\n",
              "    </script>\n",
              "  </div>\n",
              "\n",
              "\n",
              "<div id=\"df-069c09ef-bb16-460e-88ce-fc860408686a\">\n",
              "  <button class=\"colab-df-quickchart\" onclick=\"quickchart('df-069c09ef-bb16-460e-88ce-fc860408686a')\"\n",
              "            title=\"Suggest charts\"\n",
              "            style=\"display:none;\">\n",
              "\n",
              "<svg xmlns=\"http://www.w3.org/2000/svg\" height=\"24px\"viewBox=\"0 0 24 24\"\n",
              "     width=\"24px\">\n",
              "    <g>\n",
              "        <path d=\"M19 3H5c-1.1 0-2 .9-2 2v14c0 1.1.9 2 2 2h14c1.1 0 2-.9 2-2V5c0-1.1-.9-2-2-2zM9 17H7v-7h2v7zm4 0h-2V7h2v10zm4 0h-2v-4h2v4z\"/>\n",
              "    </g>\n",
              "</svg>\n",
              "  </button>\n",
              "\n",
              "<style>\n",
              "  .colab-df-quickchart {\n",
              "      --bg-color: #E8F0FE;\n",
              "      --fill-color: #1967D2;\n",
              "      --hover-bg-color: #E2EBFA;\n",
              "      --hover-fill-color: #174EA6;\n",
              "      --disabled-fill-color: #AAA;\n",
              "      --disabled-bg-color: #DDD;\n",
              "  }\n",
              "\n",
              "  [theme=dark] .colab-df-quickchart {\n",
              "      --bg-color: #3B4455;\n",
              "      --fill-color: #D2E3FC;\n",
              "      --hover-bg-color: #434B5C;\n",
              "      --hover-fill-color: #FFFFFF;\n",
              "      --disabled-bg-color: #3B4455;\n",
              "      --disabled-fill-color: #666;\n",
              "  }\n",
              "\n",
              "  .colab-df-quickchart {\n",
              "    background-color: var(--bg-color);\n",
              "    border: none;\n",
              "    border-radius: 50%;\n",
              "    cursor: pointer;\n",
              "    display: none;\n",
              "    fill: var(--fill-color);\n",
              "    height: 32px;\n",
              "    padding: 0;\n",
              "    width: 32px;\n",
              "  }\n",
              "\n",
              "  .colab-df-quickchart:hover {\n",
              "    background-color: var(--hover-bg-color);\n",
              "    box-shadow: 0 1px 2px rgba(60, 64, 67, 0.3), 0 1px 3px 1px rgba(60, 64, 67, 0.15);\n",
              "    fill: var(--button-hover-fill-color);\n",
              "  }\n",
              "\n",
              "  .colab-df-quickchart-complete:disabled,\n",
              "  .colab-df-quickchart-complete:disabled:hover {\n",
              "    background-color: var(--disabled-bg-color);\n",
              "    fill: var(--disabled-fill-color);\n",
              "    box-shadow: none;\n",
              "  }\n",
              "\n",
              "  .colab-df-spinner {\n",
              "    border: 2px solid var(--fill-color);\n",
              "    border-color: transparent;\n",
              "    border-bottom-color: var(--fill-color);\n",
              "    animation:\n",
              "      spin 1s steps(1) infinite;\n",
              "  }\n",
              "\n",
              "  @keyframes spin {\n",
              "    0% {\n",
              "      border-color: transparent;\n",
              "      border-bottom-color: var(--fill-color);\n",
              "      border-left-color: var(--fill-color);\n",
              "    }\n",
              "    20% {\n",
              "      border-color: transparent;\n",
              "      border-left-color: var(--fill-color);\n",
              "      border-top-color: var(--fill-color);\n",
              "    }\n",
              "    30% {\n",
              "      border-color: transparent;\n",
              "      border-left-color: var(--fill-color);\n",
              "      border-top-color: var(--fill-color);\n",
              "      border-right-color: var(--fill-color);\n",
              "    }\n",
              "    40% {\n",
              "      border-color: transparent;\n",
              "      border-right-color: var(--fill-color);\n",
              "      border-top-color: var(--fill-color);\n",
              "    }\n",
              "    60% {\n",
              "      border-color: transparent;\n",
              "      border-right-color: var(--fill-color);\n",
              "    }\n",
              "    80% {\n",
              "      border-color: transparent;\n",
              "      border-right-color: var(--fill-color);\n",
              "      border-bottom-color: var(--fill-color);\n",
              "    }\n",
              "    90% {\n",
              "      border-color: transparent;\n",
              "      border-bottom-color: var(--fill-color);\n",
              "    }\n",
              "  }\n",
              "</style>\n",
              "\n",
              "  <script>\n",
              "    async function quickchart(key) {\n",
              "      const quickchartButtonEl =\n",
              "        document.querySelector('#' + key + ' button');\n",
              "      quickchartButtonEl.disabled = true;  // To prevent multiple clicks.\n",
              "      quickchartButtonEl.classList.add('colab-df-spinner');\n",
              "      try {\n",
              "        const charts = await google.colab.kernel.invokeFunction(\n",
              "            'suggestCharts', [key], {});\n",
              "      } catch (error) {\n",
              "        console.error('Error during call to suggestCharts:', error);\n",
              "      }\n",
              "      quickchartButtonEl.classList.remove('colab-df-spinner');\n",
              "      quickchartButtonEl.classList.add('colab-df-quickchart-complete');\n",
              "    }\n",
              "    (() => {\n",
              "      let quickchartButtonEl =\n",
              "        document.querySelector('#df-069c09ef-bb16-460e-88ce-fc860408686a button');\n",
              "      quickchartButtonEl.style.display =\n",
              "        google.colab.kernel.accessAllowed ? 'block' : 'none';\n",
              "    })();\n",
              "  </script>\n",
              "</div>\n",
              "\n",
              "    </div>\n",
              "  </div>\n"
            ],
            "application/vnd.google.colaboratory.intrinsic+json": {
              "type": "dataframe",
              "variable_name": "carros",
              "summary": "{\n  \"name\": \"carros\",\n  \"rows\": 398,\n  \"fields\": [\n    {\n      \"column\": \"mpg\",\n      \"properties\": {\n        \"dtype\": \"number\",\n        \"std\": 7.815984312565782,\n        \"min\": 9.0,\n        \"max\": 46.6,\n        \"num_unique_values\": 129,\n        \"samples\": [\n          17.7,\n          30.5,\n          30.0\n        ],\n        \"semantic_type\": \"\",\n        \"description\": \"\"\n      }\n    },\n    {\n      \"column\": \"cylinders\",\n      \"properties\": {\n        \"dtype\": \"number\",\n        \"std\": 1,\n        \"min\": 3,\n        \"max\": 8,\n        \"num_unique_values\": 5,\n        \"samples\": [\n          4,\n          5,\n          6\n        ],\n        \"semantic_type\": \"\",\n        \"description\": \"\"\n      }\n    },\n    {\n      \"column\": \"displacement\",\n      \"properties\": {\n        \"dtype\": \"number\",\n        \"std\": 104.26983817119591,\n        \"min\": 68.0,\n        \"max\": 455.0,\n        \"num_unique_values\": 82,\n        \"samples\": [\n          122.0,\n          307.0,\n          360.0\n        ],\n        \"semantic_type\": \"\",\n        \"description\": \"\"\n      }\n    },\n    {\n      \"column\": \"horsepower\",\n      \"properties\": {\n        \"dtype\": \"number\",\n        \"std\": 38.49115993282849,\n        \"min\": 46.0,\n        \"max\": 230.0,\n        \"num_unique_values\": 93,\n        \"samples\": [\n          92.0,\n          100.0,\n          52.0\n        ],\n        \"semantic_type\": \"\",\n        \"description\": \"\"\n      }\n    },\n    {\n      \"column\": \"weight\",\n      \"properties\": {\n        \"dtype\": \"number\",\n        \"std\": 846.8417741973268,\n        \"min\": 1613.0,\n        \"max\": 5140.0,\n        \"num_unique_values\": 351,\n        \"samples\": [\n          3730.0,\n          1995.0,\n          2215.0\n        ],\n        \"semantic_type\": \"\",\n        \"description\": \"\"\n      }\n    },\n    {\n      \"column\": \"acceleration\",\n      \"properties\": {\n        \"dtype\": \"number\",\n        \"std\": 2.757688929812676,\n        \"min\": 8.0,\n        \"max\": 24.8,\n        \"num_unique_values\": 95,\n        \"samples\": [\n          14.7,\n          18.0,\n          14.3\n        ],\n        \"semantic_type\": \"\",\n        \"description\": \"\"\n      }\n    },\n    {\n      \"column\": \"model_year\",\n      \"properties\": {\n        \"dtype\": \"number\",\n        \"std\": 3,\n        \"min\": 70,\n        \"max\": 82,\n        \"num_unique_values\": 13,\n        \"samples\": [\n          81,\n          79,\n          70\n        ],\n        \"semantic_type\": \"\",\n        \"description\": \"\"\n      }\n    },\n    {\n      \"column\": \"origin\",\n      \"properties\": {\n        \"dtype\": \"number\",\n        \"std\": 0,\n        \"min\": 1,\n        \"max\": 3,\n        \"num_unique_values\": 3,\n        \"samples\": [\n          1,\n          3,\n          2\n        ],\n        \"semantic_type\": \"\",\n        \"description\": \"\"\n      }\n    },\n    {\n      \"column\": \"car_name\",\n      \"properties\": {\n        \"dtype\": \"string\",\n        \"num_unique_values\": 305,\n        \"samples\": [\n          \"mazda rx-4\",\n          \"ford f108\",\n          \"buick century luxus (sw)\"\n        ],\n        \"semantic_type\": \"\",\n        \"description\": \"\"\n      }\n    }\n  ]\n}"
            }
          },
          "metadata": {},
          "execution_count": 45
        }
      ]
    },
    {
      "cell_type": "code",
      "source": [
        "#revisamos la calidad de los datos con un pequeño EDA\n",
        "carros.info()"
      ],
      "metadata": {
        "colab": {
          "base_uri": "https://localhost:8080/"
        },
        "id": "U2Le492C_xN3",
        "outputId": "873c8b71-aaaa-45b9-eb7f-409232bbbb68"
      },
      "execution_count": 46,
      "outputs": [
        {
          "output_type": "stream",
          "name": "stdout",
          "text": [
            "<class 'pandas.core.frame.DataFrame'>\n",
            "RangeIndex: 398 entries, 0 to 397\n",
            "Data columns (total 9 columns):\n",
            " #   Column        Non-Null Count  Dtype  \n",
            "---  ------        --------------  -----  \n",
            " 0   mpg           398 non-null    float64\n",
            " 1   cylinders     398 non-null    int64  \n",
            " 2   displacement  398 non-null    float64\n",
            " 3   horsepower    392 non-null    float64\n",
            " 4   weight        398 non-null    float64\n",
            " 5   acceleration  398 non-null    float64\n",
            " 6   model_year    398 non-null    int64  \n",
            " 7   origin        398 non-null    int64  \n",
            " 8   car_name      398 non-null    object \n",
            "dtypes: float64(5), int64(3), object(1)\n",
            "memory usage: 28.1+ KB\n"
          ]
        }
      ]
    },
    {
      "cell_type": "code",
      "source": [
        "#en una tarea de ML supervisado, la variable a predecir debe ser la de mejor\n",
        "#calidad, por ello vamos a tomar SOLO los registros para los cuales mpg\n",
        "#sea no nulo\n",
        "\n",
        "carros = carros[carros['mpg'].notnull()]"
      ],
      "metadata": {
        "id": "b1kyZMvQAIsU"
      },
      "execution_count": 47,
      "outputs": []
    },
    {
      "cell_type": "code",
      "source": [
        "#dado la naturaleza del conjunto de datos, es posible imputar los datos faltantes\n",
        "#de la variable horsepower\n",
        "\n",
        "carros['horsepower'].fillna(value = carros['horsepower'].mean(),inplace = True)\n",
        "\n",
        "#fijamos el index en la variable car_name\n",
        "carros.set_index('car_name', inplace = True)"
      ],
      "metadata": {
        "id": "XTMcTPgzAjET"
      },
      "execution_count": 58,
      "outputs": []
    },
    {
      "cell_type": "code",
      "source": [
        "#graficamos el histograma y el diagrama de cajas y bigotes para\n",
        "# identificar posibles datos atípicos (como primera visualización)\n",
        "\n",
        "carros.hist(column = 'mpg')\n",
        "plt.show()"
      ],
      "metadata": {
        "colab": {
          "base_uri": "https://localhost:8080/",
          "height": 452
        },
        "id": "nIG7DqDkB9E1",
        "outputId": "3d918cda-fdd7-4166-fd9c-75f6c7640f5e"
      },
      "execution_count": 54,
      "outputs": [
        {
          "output_type": "display_data",
          "data": {
            "text/plain": [
              "<Figure size 640x480 with 1 Axes>"
            ],
            "image/png": "[encoded data removed]"
          },
          "metadata": {}
        }
      ]
    },
    {
      "cell_type": "code",
      "source": [
        "carros.boxplot(column = 'mpg')\n",
        "plt.show()"
      ],
      "metadata": {
        "id": "AZrSdi6JCzcd"
      },
      "execution_count": null,
      "outputs": []
    },
    {
      "cell_type": "code",
      "source": [
        "from sklearn.model_selection import train_test_split\n",
        "\n",
        "#tomamos las variables predictoras en X y la variable a predecir en y\n",
        "X = carros.drop('mpg', axis = 1)\n",
        "y = carros['mpg']\n",
        "\n",
        "#hacemos la partición en entrenamiento y prueba\n",
        "X_train, X_test, y_train, y_test = train_test_split(X, y,\n",
        "                                                    test_size = 0.3,\n",
        "                                                    random_state = 1)"
      ],
      "metadata": {
        "id": "iBOBmPhBDh9B"
      },
      "execution_count": 59,
      "outputs": []
    },
    {
      "cell_type": "markdown",
      "source": [
        "## Ridge"
      ],
      "metadata": {
        "id": "c9rqBbxAEP1n"
      }
    },
    {
      "cell_type": "code",
      "source": [
        "#instanciamos el modelo\n",
        "model = Ridge()\n",
        "\n",
        "#creamos el diccionario\n",
        "grid = dict(alpha = np.logspace(-4,2))\n",
        "\n",
        "#instanciamos la búsqueda\n",
        "grid_search = GridSearchCV(estimator = model, param_grid = grid,\n",
        "                           n_jobs = 1, cv = 5, scoring = 'neg_mean_squared_error')\n",
        "\n",
        "#generamos la búsqueda\n",
        "grid_result = grid_search.fit(X_train, y_train)"
      ],
      "metadata": {
        "id": "K5dZZV-DESCJ"
      },
      "execution_count": 60,
      "outputs": []
    },
    {
      "cell_type": "code",
      "source": [
        "#mostramos el mejor RMSE con el hiperparámetro sintonizado\n",
        "print(f'El mejor RMSE fue de {-grid_result.best_score_:.2f},\n",
        "con un lambda de {grid_result.best_params_[\"alpha\"]}')"
      ],
      "metadata": {
        "colab": {
          "base_uri": "https://localhost:8080/"
        },
        "id": "YeQygUsjGq9C",
        "outputId": "b056fe26-caf4-4c58-943b-6e10dd04bd72"
      },
      "execution_count": 61,
      "outputs": [
        {
          "output_type": "stream",
          "name": "stdout",
          "text": [
            "El mejor RMSE fue de 12.88, con un lambda de 32.3745754281764\n"
          ]
        }
      ]
    }
  ]
}