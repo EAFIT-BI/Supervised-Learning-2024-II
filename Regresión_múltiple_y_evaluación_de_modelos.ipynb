{
  "nbformat": 4,
  "nbformat_minor": 0,
  "metadata": {
    "colab": {
      "provenance": [],
      "authorship_tag": "ABX9TyNubm9SELENW+4J8r0X+uXl",
      "include_colab_link": true
    },
    "kernelspec": {
      "name": "python3",
      "display_name": "Python 3"
    },
    "language_info": {
      "name": "python"
    }
  },
  "cells": [
    {
      "cell_type": "markdown",
      "metadata": {
        "id": "view-in-github",
        "colab_type": "text"
      },
      "source": [
        "<a href=\"https://colab.research.google.com/github/EAFIT-BI/Supervised-Learning-2024-II/blob/main/Regresi%C3%B3n_m%C3%BAltiple_y_evaluaci%C3%B3n_de_modelos.ipynb\" target=\"_parent\"><img src=\"https://colab.research.google.com/assets/colab-badge.svg\" alt=\"Open In Colab\"/></a>"
      ]
    },
    {
      "cell_type": "markdown",
      "source": [
        "# Modelos de regresión múltiple\n"
      ],
      "metadata": {
        "id": "VSS1N3nMkgrb"
      }
    },
    {
      "cell_type": "markdown",
      "source": [
        "\n",
        "Los modelos de regresión múltiple son aquellos que intentan encontrar una ecuación de tipo:\n",
        "\n",
        "$$y = f(X),$$\n",
        "\n",
        "y pueden ser de tipo polinómico y de tipo simple pero con múltiples variables. En este caso $X$ podría ser un conjunto de variables predictoras o una sola variable que será sometida a un proceso polinómico."
      ],
      "metadata": {
        "id": "0LodOhwulby5"
      }
    },
    {
      "cell_type": "markdown",
      "source": [
        "## Regresión lineal polinómica"
      ],
      "metadata": {
        "id": "HNSTfqgmlp8f"
      }
    },
    {
      "cell_type": "markdown",
      "source": [
        "Tiene la forma:\n",
        "\n",
        "$$y = w_0 + w_1x +w_2x^2+ \\ldots + x_p^p$$"
      ],
      "metadata": {
        "id": "dUfi6TsVlwqs"
      }
    },
    {
      "cell_type": "code",
      "source": [
        "#importamos las librerías necesarias\n",
        "import numpy as np\n",
        "import pandas as pd\n",
        "import matplotlib.pyplot as plt\n",
        "from sklearn.linear_model import LinearRegression\n",
        "from sklearn.preprocessing import PolynomialFeatures"
      ],
      "metadata": {
        "id": "fbxQcyUpmgsm"
      },
      "execution_count": 1,
      "outputs": []
    },
    {
      "cell_type": "code",
      "source": [
        "#en este caso trabajaremos con un toyset (un dataset generado)\n",
        "\n",
        "X = np.linspace(-1, 1, 1000) #un vector desde -1 hasta 1 con 1000 puntos\n",
        "#agregamos ruido aleatorio\n",
        "ruido = np.random.normal(0, 0.333, 1000) #ruido aleatorio con distribución normal\n",
        "# con media cero, desviación 0.333 y de 1000 puntos\n",
        "#generamos la variable dependiente y\n",
        "y = np.sin(4*X) + np.cos(3*X) + ruido"
      ],
      "metadata": {
        "id": "KtMh7ofUm5aG"
      },
      "execution_count": 2,
      "outputs": []
    },
    {
      "cell_type": "code",
      "source": [
        "#graficamos los datos para efectos de visualizar\n",
        "plt.plot(X, y, '.')\n",
        "plt.grid()\n",
        "plt.title('Gráfico y vs X')\n",
        "plt.xlabel('$X$')\n",
        "plt.ylabel('$\\sin(4x)+\\cos(3x)+\\eta$')\n",
        "plt.show()"
      ],
      "metadata": {
        "id": "rCIFx1agnlcc"
      },
      "execution_count": null,
      "outputs": []
    },
    {
      "cell_type": "code",
      "source": [
        "#haremos el modelo más sencillo que será un polinomio de grado 1\n",
        "model = LinearRegression(fit_intercept=True) #instanciamos el modelo\n",
        "X = X.reshape(-1, 1) #organizamos los datos\n",
        "model.fit(X, y) #entrenamos el modelo"
      ],
      "metadata": {
        "colab": {
          "base_uri": "https://localhost:8080/",
          "height": 74
        },
        "id": "homK69fso6Pl",
        "outputId": "abadf776-e014-4490-a198-69a3eda28ee1"
      },
      "execution_count": 4,
      "outputs": [
        {
          "output_type": "execute_result",
          "data": {
            "text/plain": [
              "LinearRegression()"
            ],
            "text/html": [
              "<style>#sk-container-id-1 {color: black;}#sk-container-id-1 pre{padding: 0;}#sk-container-id-1 div.sk-toggleable {background-color: white;}#sk-container-id-1 label.sk-toggleable__label {cursor: pointer;display: block;width: 100%;margin-bottom: 0;padding: 0.3em;box-sizing: border-box;text-align: center;}#sk-container-id-1 label.sk-toggleable__label-arrow:before {content: \"▸\";float: left;margin-right: 0.25em;color: #696969;}#sk-container-id-1 label.sk-toggleable__label-arrow:hover:before {color: black;}#sk-container-id-1 div.sk-estimator:hover label.sk-toggleable__label-arrow:before {color: black;}#sk-container-id-1 div.sk-toggleable__content {max-height: 0;max-width: 0;overflow: hidden;text-align: left;background-color: #f0f8ff;}#sk-container-id-1 div.sk-toggleable__content pre {margin: 0.2em;color: black;border-radius: 0.25em;background-color: #f0f8ff;}#sk-container-id-1 input.sk-toggleable__control:checked~div.sk-toggleable__content {max-height: 200px;max-width: 100%;overflow: auto;}#sk-container-id-1 input.sk-toggleable__control:checked~label.sk-toggleable__label-arrow:before {content: \"▾\";}#sk-container-id-1 div.sk-estimator input.sk-toggleable__control:checked~label.sk-toggleable__label {background-color: #d4ebff;}#sk-container-id-1 div.sk-label input.sk-toggleable__control:checked~label.sk-toggleable__label {background-color: #d4ebff;}#sk-container-id-1 input.sk-hidden--visually {border: 0;clip: rect(1px 1px 1px 1px);clip: rect(1px, 1px, 1px, 1px);height: 1px;margin: -1px;overflow: hidden;padding: 0;position: absolute;width: 1px;}#sk-container-id-1 div.sk-estimator {font-family: monospace;background-color: #f0f8ff;border: 1px dotted black;border-radius: 0.25em;box-sizing: border-box;margin-bottom: 0.5em;}#sk-container-id-1 div.sk-estimator:hover {background-color: #d4ebff;}#sk-container-id-1 div.sk-parallel-item::after {content: \"\";width: 100%;border-bottom: 1px solid gray;flex-grow: 1;}#sk-container-id-1 div.sk-label:hover label.sk-toggleable__label {background-color: #d4ebff;}#sk-container-id-1 div.sk-serial::before {content: \"\";position: absolute;border-left: 1px solid gray;box-sizing: border-box;top: 0;bottom: 0;left: 50%;z-index: 0;}#sk-container-id-1 div.sk-serial {display: flex;flex-direction: column;align-items: center;background-color: white;padding-right: 0.2em;padding-left: 0.2em;position: relative;}#sk-container-id-1 div.sk-item {position: relative;z-index: 1;}#sk-container-id-1 div.sk-parallel {display: flex;align-items: stretch;justify-content: center;background-color: white;position: relative;}#sk-container-id-1 div.sk-item::before, #sk-container-id-1 div.sk-parallel-item::before {content: \"\";position: absolute;border-left: 1px solid gray;box-sizing: border-box;top: 0;bottom: 0;left: 50%;z-index: -1;}#sk-container-id-1 div.sk-parallel-item {display: flex;flex-direction: column;z-index: 1;position: relative;background-color: white;}#sk-container-id-1 div.sk-parallel-item:first-child::after {align-self: flex-end;width: 50%;}#sk-container-id-1 div.sk-parallel-item:last-child::after {align-self: flex-start;width: 50%;}#sk-container-id-1 div.sk-parallel-item:only-child::after {width: 0;}#sk-container-id-1 div.sk-dashed-wrapped {border: 1px dashed gray;margin: 0 0.4em 0.5em 0.4em;box-sizing: border-box;padding-bottom: 0.4em;background-color: white;}#sk-container-id-1 div.sk-label label {font-family: monospace;font-weight: bold;display: inline-block;line-height: 1.2em;}#sk-container-id-1 div.sk-label-container {text-align: center;}#sk-container-id-1 div.sk-container {/* jupyter's `normalize.less` sets `[hidden] { display: none; }` but bootstrap.min.css set `[hidden] { display: none !important; }` so we also need the `!important` here to be able to override the default hidden behavior on the sphinx rendered scikit-learn.org. See: https://github.com/scikit-learn/scikit-learn/issues/21755 */display: inline-block !important;position: relative;}#sk-container-id-1 div.sk-text-repr-fallback {display: none;}</style><div id=\"sk-container-id-1\" class=\"sk-top-container\"><div class=\"sk-text-repr-fallback\"><pre>LinearRegression()</pre><b>In a Jupyter environment, please rerun this cell to show the HTML representation or trust the notebook. <br />On GitHub, the HTML representation is unable to render, please try loading this page with nbviewer.org.</b></div><div class=\"sk-container\" hidden><div class=\"sk-item\"><div class=\"sk-estimator sk-toggleable\"><input class=\"sk-toggleable__control sk-hidden--visually\" id=\"sk-estimator-id-1\" type=\"checkbox\" checked><label for=\"sk-estimator-id-1\" class=\"sk-toggleable__label sk-toggleable__label-arrow\">LinearRegression</label><div class=\"sk-toggleable__content\"><pre>LinearRegression()</pre></div></div></div></div></div>"
            ]
          },
          "metadata": {},
          "execution_count": 4
        }
      ]
    },
    {
      "cell_type": "code",
      "source": [
        "#miramos el score para saber el rendimiento del modelo\n",
        "model.score(X,y)"
      ],
      "metadata": {
        "colab": {
          "base_uri": "https://localhost:8080/"
        },
        "id": "9OqkXxaUpTyF",
        "outputId": "58644f19-243f-45fa-9c37-afbcb17016ca"
      },
      "execution_count": 5,
      "outputs": [
        {
          "output_type": "execute_result",
          "data": {
            "text/plain": [
              "0.043313136946296904"
            ]
          },
          "metadata": {},
          "execution_count": 5
        }
      ]
    },
    {
      "cell_type": "code",
      "source": [
        "#evidentemente el modelo es malísimo, vamos a graficar el resultado\n",
        "plt.plot(X, y, '.')\n",
        "plt.plot(X, model.predict(X), 'r.')\n",
        "plt.grid()\n",
        "plt.title('Gráfico de la predicción de y')\n",
        "plt.xlabel('$X$')\n",
        "plt.ylabel('$\\sin(4x)+\\cos(3x)+\\eta$')\n",
        "plt.show()"
      ],
      "metadata": {
        "id": "z4UO-RcLpxAT"
      },
      "execution_count": null,
      "outputs": []
    },
    {
      "cell_type": "code",
      "source": [
        "#vamos a agregar una nueva característica con el fin de agregar\n",
        "#un grado más al modelo (polinomio de grado 2)\n",
        "\n",
        "poly = PolynomialFeatures(degree = 2, include_bias = True)\n",
        "X_p = poly.fit_transform(X)\n",
        "\n",
        "#vamos a revisar el tamaño de X_p\n",
        "X_p.shape"
      ],
      "metadata": {
        "colab": {
          "base_uri": "https://localhost:8080/"
        },
        "id": "f7rh4Jp_qOeB",
        "outputId": "e5f0d08c-ae86-49b3-fceb-ffc6ceb46ccc"
      },
      "execution_count": 7,
      "outputs": [
        {
          "output_type": "execute_result",
          "data": {
            "text/plain": [
              "(1000, 3)"
            ]
          },
          "metadata": {},
          "execution_count": 7
        }
      ]
    },
    {
      "cell_type": "code",
      "source": [
        "#entrenamos el modelo\n",
        "model.fit(X_p, y)\n",
        "#calculamos el score\n",
        "model.score(X_p, y)"
      ],
      "metadata": {
        "colab": {
          "base_uri": "https://localhost:8080/"
        },
        "id": "77qvw3wUq2GX",
        "outputId": "d706a13d-66fb-4a2b-f05f-6dc1fb61996b"
      },
      "execution_count": 8,
      "outputs": [
        {
          "output_type": "execute_result",
          "data": {
            "text/plain": [
              "0.4677235229057852"
            ]
          },
          "metadata": {},
          "execution_count": 8
        }
      ]
    },
    {
      "cell_type": "code",
      "source": [
        "#el modelo sigue teniendo un mal ajuste, vamos a graficar el resultado\n",
        "plt.plot(X, y, '.')\n",
        "plt.plot(X, model.predict(X_p), 'r.')\n",
        "plt.grid()\n",
        "plt.title('Gráfico de la predicción de y')\n",
        "plt.xlabel('$X$')\n",
        "plt.ylabel('$\\sin(4x)+\\cos(3x)+\\eta$')\n",
        "plt.show()"
      ],
      "metadata": {
        "id": "7vAxvVFJrGpP"
      },
      "execution_count": null,
      "outputs": []
    },
    {
      "cell_type": "code",
      "source": [
        "#aumentaremos un grado más para revisar los ajustes\n",
        "\n",
        "poly = PolynomialFeatures(degree = 3, include_bias = True)\n",
        "X_p = poly.fit_transform(X)\n",
        "\n",
        "#entrenamos el modelo\n",
        "model.fit(X_p, y)\n",
        "#calculamos el score\n",
        "model.score(X_p, y)"
      ],
      "metadata": {
        "colab": {
          "base_uri": "https://localhost:8080/"
        },
        "id": "IccpnrLVrlVd",
        "outputId": "7fc2d6c6-726d-42c5-e232-e73708358fe9"
      },
      "execution_count": 10,
      "outputs": [
        {
          "output_type": "execute_result",
          "data": {
            "text/plain": [
              "0.8306207961370795"
            ]
          },
          "metadata": {},
          "execution_count": 10
        }
      ]
    },
    {
      "cell_type": "code",
      "source": [
        "#graficamos para revisar el ajuste de los datos\n",
        "plt.plot(X, y, '.')\n",
        "plt.plot(X, model.predict(X_p), 'r.')\n",
        "plt.grid()\n",
        "plt.title('Gráfico de la predicción de y')\n",
        "plt.xlabel('$X$')\n",
        "plt.ylabel('$\\sin(4x)+\\cos(3x)+\\eta$')\n",
        "plt.show()"
      ],
      "metadata": {
        "id": "kqI_m_sLr08n"
      },
      "execution_count": null,
      "outputs": []
    },
    {
      "cell_type": "markdown",
      "source": [
        "Pareciera que mientras más alto el grado del modelo, mejore predice. Vamos a probarlo"
      ],
      "metadata": {
        "id": "bThKOOCVsY0f"
      }
    },
    {
      "cell_type": "code",
      "source": [
        "#cargamos la librería para la creación de pipelines\n",
        "\n",
        "from sklearn.pipeline import Pipeline\n",
        "\n",
        "#instanciamos la secuencia de procesos que queremos aplicar a los datos\n",
        "#para el pipeline se crea una lista de tuplas, cada tupla está conformada\n",
        "#por la pareja ('variable', función)\n",
        "\n",
        "pipe = Pipeline([('poly', PolynomialFeatures()),\n",
        "                 ('model', LinearRegression(fit_intercept = True))])\n",
        "\n",
        "#creamos un vector con todos los grados del polinomio que queremos probar\n",
        "#en este probaremos los grados desde el 2 hasta el 16\n",
        "degrees = range(2,16)\n",
        "\n",
        "#vamos a crear una lista vacía para almacenar los scores que resulten de evaluar\n",
        "#las regresiones polinomiales con cada uno de los grados\n",
        "scores = []\n",
        "\n",
        "#implementamos el ciclo que recorra tooodos los grados que queremos probar\n",
        "for degree in degrees:\n",
        "    #ajustamos el grado del polinomio\n",
        "    scores.append(pipe.set_params(poly__degree = degree).fit(X, y).score(X, y))"
      ],
      "metadata": {
        "id": "gpkcrZdvshXa"
      },
      "execution_count": 12,
      "outputs": []
    },
    {
      "cell_type": "code",
      "source": [
        "#graficos los scores para analizar los resultados\n",
        "plt.plot(degrees, scores, '-', label = 'Score')\n",
        "plt.legend(loc = 'best')\n",
        "plt.grid()\n",
        "plt.xlabel('Grado del polinomio')\n",
        "plt.ylabel('Score')\n",
        "plt.title('Score vs Grado del polinomio')\n",
        "plt.show()"
      ],
      "metadata": {
        "id": "rRyBzHPxwWsq"
      },
      "execution_count": null,
      "outputs": []
    },
    {
      "cell_type": "markdown",
      "source": [
        "## Evaluación de modelos"
      ],
      "metadata": {
        "id": "qJMsDO9jxC7e"
      }
    },
    {
      "cell_type": "markdown",
      "source": [
        "Después de cierto grado, el modelo parece que no tiene una mejora apreciable. Pero, ¿los modelos más complejos predicen mejor? Eso solo podemos saberlo con datos diferentes a los usados para entrenar el modelo."
      ],
      "metadata": {
        "id": "75SczgDqxaht"
      }
    },
    {
      "cell_type": "code",
      "source": [
        "#vamos a generador otro conjunto de datos que el modelo aún no conoce\n",
        "X_test = np.linspace(-0.9, 1.1, 100)\n",
        "ruido = np.random.normal(0, 0.333, 100)\n",
        "\n",
        "y_test = np.sin(4*X_test) + np.cos(3*X_test) + ruido\n",
        "\n",
        "#graficamos los datos de prueba\n",
        "plt.plot(X_test, y_test, '.g')\n",
        "plt.grid()\n",
        "plt.title('Gráfico y_test vs X_test')\n",
        "plt.xlabel('$X$')\n",
        "plt.ylabel('$\\sin(4x)+\\cos(3x)+\\eta$')\n",
        "plt.show()"
      ],
      "metadata": {
        "colab": {
          "base_uri": "https://localhost:8080/",
          "height": 472
        },
        "id": "PTozN5KhxuCb",
        "outputId": "3120f73f-0189-4bd7-a813-b5aef650f8bc"
      },
      "execution_count": 15,
      "outputs": [
        {
          "output_type": "display_data",
          "data": {
            "text/plain": [
              "<Figure size 640x480 with 1 Axes>"
            ],
            "image/png": "[encoded data removed]"
          },
          "metadata": {}
        }
      ]
    },
    {
      "cell_type": "code",
      "source": [
        "#vamos a implementar el pipeline pero ahora evaluando sobre el conjunto de test\n",
        "\n",
        "#cargamos la librería para la creación de pipelines\n",
        "\n",
        "from sklearn.pipeline import Pipeline\n",
        "\n",
        "#instanciamos la secuencia de procesos que queremos aplicar a los datos\n",
        "#para el pipeline se crea una lista de tuplas, cada tupla está conformada\n",
        "#por la pareja ('variable', función)\n",
        "\n",
        "pipe = Pipeline([('poly', PolynomialFeatures()),\n",
        "                 ('model', LinearRegression(fit_intercept = True))])\n",
        "\n",
        "#creamos un vector con todos los grados del polinomio que queremos probar\n",
        "#en este probaremos los grados desde el 2 hasta el 16\n",
        "degrees = range(2,16)\n",
        "\n",
        "#vamos a crear una lista vacía para almacenar los scores que resulten de evaluar\n",
        "#las regresiones polinomiales con cada uno de los grados\n",
        "scores_train = []\n",
        "scores_test = []\n",
        "\n",
        "#implementamos el ciclo que recorra tooodos los grados que queremos probar\n",
        "for degree in degrees:\n",
        "    #ajustamos el grado del polinomio\n",
        "    scores_train.append(pipe.set_params(poly__degree = degree).fit(X, y).score(X, y))\n",
        "    scores_test.append(pipe.score(X_test.reshape(-1,1), y_test))\n",
        ""
      ],
      "metadata": {
        "id": "LWdlIQoRy9f7"
      },
      "execution_count": 16,
      "outputs": []
    },
    {
      "cell_type": "code",
      "source": [
        "#graficos los scores para analizar los resultados\n",
        "plt.plot(degrees, scores_train, '-', label = 'Scores_train')\n",
        "plt.plot(degrees, scores_test, '-r', label = 'Scores_test')\n",
        "plt.legend(loc = 'best')\n",
        "plt.grid()\n",
        "plt.xlabel('Grado del polinomio')\n",
        "plt.ylabel('Score')\n",
        "plt.title('Score vs Grado del polinomio')\n",
        "plt.show()"
      ],
      "metadata": {
        "id": "nqU5GqdIz-Hi"
      },
      "execution_count": null,
      "outputs": []
    },
    {
      "cell_type": "markdown",
      "source": [
        "## Regresión múltiple"
      ],
      "metadata": {
        "id": "MzDlSCRS1Om4"
      }
    },
    {
      "cell_type": "markdown",
      "source": [
        "En la regresión múltiple tenemos diferentes características regresoras, y la ecuación tendría la forma:\n",
        "\n",
        "$$y = w_0 + w_1x[1] + w_2x[2]+\\ldots w_Dx[D]$$"
      ],
      "metadata": {
        "id": "F5q8lIFF1Qh9"
      }
    },
    {
      "cell_type": "code",
      "source": [
        "#para nuestro ejemplo haremos la predicción del precio de un inmueble a partir\n",
        "#de diversas características\n",
        "\n",
        "#cargamos los datos del archivo csv\n",
        "data = pd.read_csv(\"/content/Real estate.csv\")\n",
        "data.head()"
      ],
      "metadata": {
        "colab": {
          "base_uri": "https://localhost:8080/",
          "height": 223
        },
        "id": "nIVYRmi81vWC",
        "outputId": "10c5f0b6-3bdc-4964-aa8f-07a2d87bb486"
      },
      "execution_count": 18,
      "outputs": [
        {
          "output_type": "execute_result",
          "data": {
            "text/plain": [
              "   No  X1 transaction date  X2 house age  \\\n",
              "0   1             2012.917          32.0   \n",
              "1   2             2012.917          19.5   \n",
              "2   3             2013.583          13.3   \n",
              "3   4             2013.500          13.3   \n",
              "4   5             2012.833           5.0   \n",
              "\n",
              "   X3 distance to the nearest MRT station  X4 number of convenience stores  \\\n",
              "0                                84.87882                               10   \n",
              "1                               306.59470                                9   \n",
              "2                               561.98450                                5   \n",
              "3                               561.98450                                5   \n",
              "4                               390.56840                                5   \n",
              "\n",
              "   X5 latitude  X6 longitude  Y house price of unit area  \n",
              "0     24.98298     121.54024                        37.9  \n",
              "1     24.98034     121.53951                        42.2  \n",
              "2     24.98746     121.54391                        47.3  \n",
              "3     24.98746     121.54391                        54.8  \n",
              "4     24.97937     121.54245                        43.1  "
            ],
            "text/html": [
              "\n",
              "  <div id=\"df-3ee41ad6-88b7-489b-966a-505f542dba76\" class=\"colab-df-container\">\n",
              "    <div>\n",
              "<style scoped>\n",
              "    .dataframe tbody tr th:only-of-type {\n",
              "        vertical-align: middle;\n",
              "    }\n",
              "\n",
              "    .dataframe tbody tr th {\n",
              "        vertical-align: top;\n",
              "    }\n",
              "\n",
              "    .dataframe thead th {\n",
              "        text-align: right;\n",
              "    }\n",
              "</style>\n",
              "<table border=\"1\" class=\"dataframe\">\n",
              "  <thead>\n",
              "    <tr style=\"text-align: right;\">\n",
              "      <th></th>\n",
              "      <th>No</th>\n",
              "      <th>X1 transaction date</th>\n",
              "      <th>X2 house age</th>\n",
              "      <th>X3 distance to the nearest MRT station</th>\n",
              "      <th>X4 number of convenience stores</th>\n",
              "      <th>X5 latitude</th>\n",
              "      <th>X6 longitude</th>\n",
              "      <th>Y house price of unit area</th>\n",
              "    </tr>\n",
              "  </thead>\n",
              "  <tbody>\n",
              "    <tr>\n",
              "      <th>0</th>\n",
              "      <td>1</td>\n",
              "      <td>2012.917</td>\n",
              "      <td>32.0</td>\n",
              "      <td>84.87882</td>\n",
              "      <td>10</td>\n",
              "      <td>24.98298</td>\n",
              "      <td>121.54024</td>\n",
              "      <td>37.9</td>\n",
              "    </tr>\n",
              "    <tr>\n",
              "      <th>1</th>\n",
              "      <td>2</td>\n",
              "      <td>2012.917</td>\n",
              "      <td>19.5</td>\n",
              "      <td>306.59470</td>\n",
              "      <td>9</td>\n",
              "      <td>24.98034</td>\n",
              "      <td>121.53951</td>\n",
              "      <td>42.2</td>\n",
              "    </tr>\n",
              "    <tr>\n",
              "      <th>2</th>\n",
              "      <td>3</td>\n",
              "      <td>2013.583</td>\n",
              "      <td>13.3</td>\n",
              "      <td>561.98450</td>\n",
              "      <td>5</td>\n",
              "      <td>24.98746</td>\n",
              "      <td>121.54391</td>\n",
              "      <td>47.3</td>\n",
              "    </tr>\n",
              "    <tr>\n",
              "      <th>3</th>\n",
              "      <td>4</td>\n",
              "      <td>2013.500</td>\n",
              "      <td>13.3</td>\n",
              "      <td>561.98450</td>\n",
              "      <td>5</td>\n",
              "      <td>24.98746</td>\n",
              "      <td>121.54391</td>\n",
              "      <td>54.8</td>\n",
              "    </tr>\n",
              "    <tr>\n",
              "      <th>4</th>\n",
              "      <td>5</td>\n",
              "      <td>2012.833</td>\n",
              "      <td>5.0</td>\n",
              "      <td>390.56840</td>\n",
              "      <td>5</td>\n",
              "      <td>24.97937</td>\n",
              "      <td>121.54245</td>\n",
              "      <td>43.1</td>\n",
              "    </tr>\n",
              "  </tbody>\n",
              "</table>\n",
              "</div>\n",
              "    <div class=\"colab-df-buttons\">\n",
              "\n",
              "  <div class=\"colab-df-container\">\n",
              "    <button class=\"colab-df-convert\" onclick=\"convertToInteractive('df-3ee41ad6-88b7-489b-966a-505f542dba76')\"\n",
              "            title=\"Convert this dataframe to an interactive table.\"\n",
              "            style=\"display:none;\">\n",
              "\n",
              "  <svg xmlns=\"http://www.w3.org/2000/svg\" height=\"24px\" viewBox=\"0 -960 960 960\">\n",
              "    <path d=\"M120-120v-720h720v720H120Zm60-500h600v-160H180v160Zm220 220h160v-160H400v160Zm0 220h160v-160H400v160ZM180-400h160v-160H180v160Zm440 0h160v-160H620v160ZM180-180h160v-160H180v160Zm440 0h160v-160H620v160Z\"/>\n",
              "  </svg>\n",
              "    </button>\n",
              "\n",
              "  <style>\n",
              "    .colab-df-container {\n",
              "      display:flex;\n",
              "      gap: 12px;\n",
              "    }\n",
              "\n",
              "    .colab-df-convert {\n",
              "      background-color: #E8F0FE;\n",
              "      border: none;\n",
              "      border-radius: 50%;\n",
              "      cursor: pointer;\n",
              "      display: none;\n",
              "      fill: #1967D2;\n",
              "      height: 32px;\n",
              "      padding: 0 0 0 0;\n",
              "      width: 32px;\n",
              "    }\n",
              "\n",
              "    .colab-df-convert:hover {\n",
              "      background-color: #E2EBFA;\n",
              "      box-shadow: 0px 1px 2px rgba(60, 64, 67, 0.3), 0px 1px 3px 1px rgba(60, 64, 67, 0.15);\n",
              "      fill: #174EA6;\n",
              "    }\n",
              "\n",
              "    .colab-df-buttons div {\n",
              "      margin-bottom: 4px;\n",
              "    }\n",
              "\n",
              "    [theme=dark] .colab-df-convert {\n",
              "      background-color: #3B4455;\n",
              "      fill: #D2E3FC;\n",
              "    }\n",
              "\n",
              "    [theme=dark] .colab-df-convert:hover {\n",
              "      background-color: #434B5C;\n",
              "      box-shadow: 0px 1px 3px 1px rgba(0, 0, 0, 0.15);\n",
              "      filter: drop-shadow(0px 1px 2px rgba(0, 0, 0, 0.3));\n",
              "      fill: #FFFFFF;\n",
              "    }\n",
              "  </style>\n",
              "\n",
              "    <script>\n",
              "      const buttonEl =\n",
              "        document.querySelector('#df-3ee41ad6-88b7-489b-966a-505f542dba76 button.colab-df-convert');\n",
              "      buttonEl.style.display =\n",
              "        google.colab.kernel.accessAllowed ? 'block' : 'none';\n",
              "\n",
              "      async function convertToInteractive(key) {\n",
              "        const element = document.querySelector('#df-3ee41ad6-88b7-489b-966a-505f542dba76');\n",
              "        const dataTable =\n",
              "          await google.colab.kernel.invokeFunction('convertToInteractive',\n",
              "                                                    [key], {});\n",
              "        if (!dataTable) return;\n",
              "\n",
              "        const docLinkHtml = 'Like what you see? Visit the ' +\n",
              "          '<a target=\"_blank\" href=https://colab.research.google.com/notebooks/data_table.ipynb>data table notebook</a>'\n",
              "          + ' to learn more about interactive tables.';\n",
              "        element.innerHTML = '';\n",
              "        dataTable['output_type'] = 'display_data';\n",
              "        await google.colab.output.renderOutput(dataTable, element);\n",
              "        const docLink = document.createElement('div');\n",
              "        docLink.innerHTML = docLinkHtml;\n",
              "        element.appendChild(docLink);\n",
              "      }\n",
              "    </script>\n",
              "  </div>\n",
              "\n",
              "\n",
              "<div id=\"df-217f11ef-ef63-4bc5-801e-2d0d88db8854\">\n",
              "  <button class=\"colab-df-quickchart\" onclick=\"quickchart('df-217f11ef-ef63-4bc5-801e-2d0d88db8854')\"\n",
              "            title=\"Suggest charts\"\n",
              "            style=\"display:none;\">\n",
              "\n",
              "<svg xmlns=\"http://www.w3.org/2000/svg\" height=\"24px\"viewBox=\"0 0 24 24\"\n",
              "     width=\"24px\">\n",
              "    <g>\n",
              "        <path d=\"M19 3H5c-1.1 0-2 .9-2 2v14c0 1.1.9 2 2 2h14c1.1 0 2-.9 2-2V5c0-1.1-.9-2-2-2zM9 17H7v-7h2v7zm4 0h-2V7h2v10zm4 0h-2v-4h2v4z\"/>\n",
              "    </g>\n",
              "</svg>\n",
              "  </button>\n",
              "\n",
              "<style>\n",
              "  .colab-df-quickchart {\n",
              "      --bg-color: #E8F0FE;\n",
              "      --fill-color: #1967D2;\n",
              "      --hover-bg-color: #E2EBFA;\n",
              "      --hover-fill-color: #174EA6;\n",
              "      --disabled-fill-color: #AAA;\n",
              "      --disabled-bg-color: #DDD;\n",
              "  }\n",
              "\n",
              "  [theme=dark] .colab-df-quickchart {\n",
              "      --bg-color: #3B4455;\n",
              "      --fill-color: #D2E3FC;\n",
              "      --hover-bg-color: #434B5C;\n",
              "      --hover-fill-color: #FFFFFF;\n",
              "      --disabled-bg-color: #3B4455;\n",
              "      --disabled-fill-color: #666;\n",
              "  }\n",
              "\n",
              "  .colab-df-quickchart {\n",
              "    background-color: var(--bg-color);\n",
              "    border: none;\n",
              "    border-radius: 50%;\n",
              "    cursor: pointer;\n",
              "    display: none;\n",
              "    fill: var(--fill-color);\n",
              "    height: 32px;\n",
              "    padding: 0;\n",
              "    width: 32px;\n",
              "  }\n",
              "\n",
              "  .colab-df-quickchart:hover {\n",
              "    background-color: var(--hover-bg-color);\n",
              "    box-shadow: 0 1px 2px rgba(60, 64, 67, 0.3), 0 1px 3px 1px rgba(60, 64, 67, 0.15);\n",
              "    fill: var(--button-hover-fill-color);\n",
              "  }\n",
              "\n",
              "  .colab-df-quickchart-complete:disabled,\n",
              "  .colab-df-quickchart-complete:disabled:hover {\n",
              "    background-color: var(--disabled-bg-color);\n",
              "    fill: var(--disabled-fill-color);\n",
              "    box-shadow: none;\n",
              "  }\n",
              "\n",
              "  .colab-df-spinner {\n",
              "    border: 2px solid var(--fill-color);\n",
              "    border-color: transparent;\n",
              "    border-bottom-color: var(--fill-color);\n",
              "    animation:\n",
              "      spin 1s steps(1) infinite;\n",
              "  }\n",
              "\n",
              "  @keyframes spin {\n",
              "    0% {\n",
              "      border-color: transparent;\n",
              "      border-bottom-color: var(--fill-color);\n",
              "      border-left-color: var(--fill-color);\n",
              "    }\n",
              "    20% {\n",
              "      border-color: transparent;\n",
              "      border-left-color: var(--fill-color);\n",
              "      border-top-color: var(--fill-color);\n",
              "    }\n",
              "    30% {\n",
              "      border-color: transparent;\n",
              "      border-left-color: var(--fill-color);\n",
              "      border-top-color: var(--fill-color);\n",
              "      border-right-color: var(--fill-color);\n",
              "    }\n",
              "    40% {\n",
              "      border-color: transparent;\n",
              "      border-right-color: var(--fill-color);\n",
              "      border-top-color: var(--fill-color);\n",
              "    }\n",
              "    60% {\n",
              "      border-color: transparent;\n",
              "      border-right-color: var(--fill-color);\n",
              "    }\n",
              "    80% {\n",
              "      border-color: transparent;\n",
              "      border-right-color: var(--fill-color);\n",
              "      border-bottom-color: var(--fill-color);\n",
              "    }\n",
              "    90% {\n",
              "      border-color: transparent;\n",
              "      border-bottom-color: var(--fill-color);\n",
              "    }\n",
              "  }\n",
              "</style>\n",
              "\n",
              "  <script>\n",
              "    async function quickchart(key) {\n",
              "      const quickchartButtonEl =\n",
              "        document.querySelector('#' + key + ' button');\n",
              "      quickchartButtonEl.disabled = true;  // To prevent multiple clicks.\n",
              "      quickchartButtonEl.classList.add('colab-df-spinner');\n",
              "      try {\n",
              "        const charts = await google.colab.kernel.invokeFunction(\n",
              "            'suggestCharts', [key], {});\n",
              "      } catch (error) {\n",
              "        console.error('Error during call to suggestCharts:', error);\n",
              "      }\n",
              "      quickchartButtonEl.classList.remove('colab-df-spinner');\n",
              "      quickchartButtonEl.classList.add('colab-df-quickchart-complete');\n",
              "    }\n",
              "    (() => {\n",
              "      let quickchartButtonEl =\n",
              "        document.querySelector('#df-217f11ef-ef63-4bc5-801e-2d0d88db8854 button');\n",
              "      quickchartButtonEl.style.display =\n",
              "        google.colab.kernel.accessAllowed ? 'block' : 'none';\n",
              "    })();\n",
              "  </script>\n",
              "</div>\n",
              "\n",
              "    </div>\n",
              "  </div>\n"
            ],
            "application/vnd.google.colaboratory.intrinsic+json": {
              "type": "dataframe",
              "variable_name": "data",
              "summary": "{\n  \"name\": \"data\",\n  \"rows\": 414,\n  \"fields\": [\n    {\n      \"column\": \"No\",\n      \"properties\": {\n        \"dtype\": \"number\",\n        \"std\": 119,\n        \"min\": 1,\n        \"max\": 414,\n        \"num_unique_values\": 414,\n        \"samples\": [\n          359,\n          351,\n          374\n        ],\n        \"semantic_type\": \"\",\n        \"description\": \"\"\n      }\n    },\n    {\n      \"column\": \"X1 transaction date\",\n      \"properties\": {\n        \"dtype\": \"number\",\n        \"std\": 0.2819672402630115,\n        \"min\": 2012.667,\n        \"max\": 2013.583,\n        \"num_unique_values\": 12,\n        \"samples\": [\n          2013.0,\n          2012.75,\n          2012.917\n        ],\n        \"semantic_type\": \"\",\n        \"description\": \"\"\n      }\n    },\n    {\n      \"column\": \"X2 house age\",\n      \"properties\": {\n        \"dtype\": \"number\",\n        \"std\": 11.39248453324253,\n        \"min\": 0.0,\n        \"max\": 43.8,\n        \"num_unique_values\": 236,\n        \"samples\": [\n          38.2,\n          3.4,\n          27.5\n        ],\n        \"semantic_type\": \"\",\n        \"description\": \"\"\n      }\n    },\n    {\n      \"column\": \"X3 distance to the nearest MRT station\",\n      \"properties\": {\n        \"dtype\": \"number\",\n        \"std\": 1262.1095954078512,\n        \"min\": 23.38284,\n        \"max\": 6488.021,\n        \"num_unique_values\": 259,\n        \"samples\": [\n          552.4371,\n          4605.749,\n          405.2134\n        ],\n        \"semantic_type\": \"\",\n        \"description\": \"\"\n      }\n    },\n    {\n      \"column\": \"X4 number of convenience stores\",\n      \"properties\": {\n        \"dtype\": \"number\",\n        \"std\": 2,\n        \"min\": 0,\n        \"max\": 10,\n        \"num_unique_values\": 11,\n        \"samples\": [\n          6,\n          10,\n          8\n        ],\n        \"semantic_type\": \"\",\n        \"description\": \"\"\n      }\n    },\n    {\n      \"column\": \"X5 latitude\",\n      \"properties\": {\n        \"dtype\": \"number\",\n        \"std\": 0.012410196590450338,\n        \"min\": 24.93207,\n        \"max\": 25.01459,\n        \"num_unique_values\": 234,\n        \"samples\": [\n          24.98573,\n          24.96143,\n          24.96696\n        ],\n        \"semantic_type\": \"\",\n        \"description\": \"\"\n      }\n    },\n    {\n      \"column\": \"X6 longitude\",\n      \"properties\": {\n        \"dtype\": \"number\",\n        \"std\": 0.015347183004592205,\n        \"min\": 121.47353,\n        \"max\": 121.56627,\n        \"num_unique_values\": 232,\n        \"samples\": [\n          121.54634,\n          121.50831,\n          121.53372\n        ],\n        \"semantic_type\": \"\",\n        \"description\": \"\"\n      }\n    },\n    {\n      \"column\": \"Y house price of unit area\",\n      \"properties\": {\n        \"dtype\": \"number\",\n        \"std\": 13.606487697735314,\n        \"min\": 7.6,\n        \"max\": 117.5,\n        \"num_unique_values\": 270,\n        \"samples\": [\n          25.0,\n          30.7,\n          18.3\n        ],\n        \"semantic_type\": \"\",\n        \"description\": \"\"\n      }\n    }\n  ]\n}"
            }
          },
          "metadata": {},
          "execution_count": 18
        }
      ]
    },
    {
      "cell_type": "code",
      "source": [
        "#revisamos la información estadística básica para observar la calidad\n",
        "#de los datos\n",
        "data.describe()\n",
        "\n",
        "#de lo que se puede observar no hay datos nulos, ni datos atípicos y todas\n",
        "#las características son de naturaleza cuantitativa"
      ],
      "metadata": {
        "id": "8rYewtCA2nu8"
      },
      "execution_count": null,
      "outputs": []
    },
    {
      "cell_type": "code",
      "source": [
        "#separamos el vector de datos a predecir (y)\n",
        "y = data['Y house price of unit area'].copy()\n",
        "#revisamos el tamaño de y\n",
        "y.shape"
      ],
      "metadata": {
        "colab": {
          "base_uri": "https://localhost:8080/"
        },
        "id": "obHtUiaB3wlH",
        "outputId": "30e5369d-b2e3-4045-8462-170dcbebbd87"
      },
      "execution_count": 21,
      "outputs": [
        {
          "output_type": "execute_result",
          "data": {
            "text/plain": [
              "(414,)"
            ]
          },
          "metadata": {},
          "execution_count": 21
        }
      ]
    },
    {
      "cell_type": "code",
      "source": [
        "data.columns"
      ],
      "metadata": {
        "colab": {
          "base_uri": "https://localhost:8080/"
        },
        "id": "vCEdAG404UnF",
        "outputId": "f48d4478-034f-417f-bcb0-7383d02c640e"
      },
      "execution_count": 22,
      "outputs": [
        {
          "output_type": "execute_result",
          "data": {
            "text/plain": [
              "Index(['No', 'X1 transaction date', 'X2 house age',\n",
              "       'X3 distance to the nearest MRT station',\n",
              "       'X4 number of convenience stores', 'X5 latitude', 'X6 longitude',\n",
              "       'Y house price of unit area'],\n",
              "      dtype='object')"
            ]
          },
          "metadata": {},
          "execution_count": 22
        }
      ]
    },
    {
      "cell_type": "code",
      "source": [
        "#separamos los datos de las variables predictoras (X)\n",
        "#creamos una lista con las variables que no nos sirven\n",
        "cols_to_drop = ['No', 'X1 transaction date', 'Y house price of unit area']\n",
        "\n",
        "#creamos un dataframe con las variables predictoras\n",
        "X = data.drop(cols_to_drop, axis = 1).copy()"
      ],
      "metadata": {
        "id": "M3CBKU4O4FNy"
      },
      "execution_count": 23,
      "outputs": []
    },
    {
      "cell_type": "code",
      "source": [
        "#revisamos el tamaño de X\n",
        "X.shape"
      ],
      "metadata": {
        "colab": {
          "base_uri": "https://localhost:8080/"
        },
        "id": "zA9D7zrR4j59",
        "outputId": "3abcd0dc-04f0-411a-919e-af1310d17768"
      },
      "execution_count": 24,
      "outputs": [
        {
          "output_type": "execute_result",
          "data": {
            "text/plain": [
              "(414, 5)"
            ]
          },
          "metadata": {},
          "execution_count": 24
        }
      ]
    },
    {
      "cell_type": "code",
      "source": [
        "#con fines de hacer la evaluación de modelo, haremos validación cruzada\n",
        "#o cross validation"
      ],
      "metadata": {
        "id": "rq7MR1wP49jd"
      },
      "execution_count": null,
      "outputs": []
    },
    {
      "cell_type": "code",
      "source": [
        "from sklearn.model_selection import cross_val_score\n",
        "\n",
        "score = cross_val_score(LinearRegression(fit_intercept = True),\n",
        "                        X, y, cv = 5, scoring = 'r2')"
      ],
      "metadata": {
        "id": "oZR2ilP75JL0"
      },
      "execution_count": 25,
      "outputs": []
    },
    {
      "cell_type": "code",
      "source": [
        "score.mean()"
      ],
      "metadata": {
        "colab": {
          "base_uri": "https://localhost:8080/"
        },
        "id": "ZqgVoxYz5kt-",
        "outputId": "49265ce3-6014-4404-80e0-914709e2c0c8"
      },
      "execution_count": 27,
      "outputs": [
        {
          "output_type": "execute_result",
          "data": {
            "text/plain": [
              "0.5766950593066399"
            ]
          },
          "metadata": {},
          "execution_count": 27
        }
      ]
    },
    {
      "cell_type": "code",
      "source": [
        "score_RMS = cross_val_score(LinearRegression(fit_intercept = True),\n",
        "                        X, y, cv = 5, scoring = 'neg_mean_squared_error')"
      ],
      "metadata": {
        "id": "rfaCLN0w56b4"
      },
      "execution_count": 28,
      "outputs": []
    },
    {
      "cell_type": "code",
      "source": [
        "-score_RMS.mean()"
      ],
      "metadata": {
        "colab": {
          "base_uri": "https://localhost:8080/"
        },
        "id": "Wyk7axBQ6Aju",
        "outputId": "6c7fa2c2-56db-447a-b7ab-ba2361bf9363"
      },
      "execution_count": 30,
      "outputs": [
        {
          "output_type": "execute_result",
          "data": {
            "text/plain": [
              "79.94377773067188"
            ]
          },
          "metadata": {},
          "execution_count": 30
        }
      ]
    }
  ]
}