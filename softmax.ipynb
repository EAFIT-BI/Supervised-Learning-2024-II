{
  "nbformat": 4,
  "nbformat_minor": 0,
  "metadata": {
    "colab": {
      "provenance": [],
      "authorship_tag": "ABX9TyPVGPj11tlof9YEoSf5kwlI",
      "include_colab_link": true
    },
    "kernelspec": {
      "name": "python3",
      "display_name": "Python 3"
    },
    "language_info": {
      "name": "python"
    }
  },
  "cells": [
    {
      "cell_type": "markdown",
      "metadata": {
        "id": "view-in-github",
        "colab_type": "text"
      },
      "source": [
        "<a href=\"https://colab.research.google.com/github/EAFIT-BI/Supervised-Learning-2024-II/blob/main/softmax.ipynb\" target=\"_parent\"><img src=\"https://colab.research.google.com/assets/colab-badge.svg\" alt=\"Open In Colab\"/></a>"
      ]
    },
    {
      "cell_type": "code",
      "execution_count": 2,
      "metadata": {
        "id": "KIEshDz-wi-X"
      },
      "outputs": [],
      "source": [
        "#cargamos librerías\n",
        "\n",
        "import os\n",
        "import pandas as pd\n",
        "import numpy as np\n",
        "import tensorflow as tf\n",
        "from tensorflow.keras import layers, models\n",
        "from tensorflow.keras.preprocessing.image import ImageDataGenerator\n",
        "from sklearn.model_selection import train_test_split\n",
        "from PIL import Image"
      ]
    },
    {
      "cell_type": "code",
      "source": [
        "# conectamos el sistema de archivos del drive\n",
        "from google.colab import drive\n",
        "drive.mount('/content/drive')"
      ],
      "metadata": {
        "colab": {
          "base_uri": "https://localhost:8080/"
        },
        "id": "YquKB9Uey1Vg",
        "outputId": "ed0d68f5-a4e6-41f6-f7a2-1c93b150e486"
      },
      "execution_count": 3,
      "outputs": [
        {
          "output_type": "stream",
          "name": "stdout",
          "text": [
            "Mounted at /content/drive\n"
          ]
        }
      ]
    },
    {
      "cell_type": "code",
      "source": [
        "# cargamos el archivo de etiquetas\n",
        "labels_df = pd.read_excel('/content/drive/MyDrive/Colab Notebooks/Aprendizaje Supervisado 2024 II/fotos/informacion.xlsx',\n",
        "                          header = None)"
      ],
      "metadata": {
        "id": "u4Ropy5GzHVA"
      },
      "execution_count": 6,
      "outputs": []
    },
    {
      "cell_type": "code",
      "source": [
        "#visualizamos el archivo\n",
        "labels_df.head()"
      ],
      "metadata": {
        "id": "RdZxybEjzks6"
      },
      "execution_count": null,
      "outputs": []
    },
    {
      "cell_type": "code",
      "source": [
        "#separamos los nombres de los archivos de las etiquetas\n",
        "filenames = labels_df[0].values\n",
        "labels = labels_df[1].values"
      ],
      "metadata": {
        "id": "4HDBsXOL0ThH"
      },
      "execution_count": null,
      "outputs": []
    },
    {
      "cell_type": "code",
      "source": [
        "from sklearn.preprocessing import LabelEncoder\n",
        "\n",
        "#codificamos las etiquetas\n",
        "#instanciamos el codificador\n",
        "label_encoder = LabelEncoder()\n",
        "#aplicamos la codificación en las etiquetas\n",
        "labels_encoded = label_encoder.fit_transform(labels)"
      ],
      "metadata": {
        "id": "30JaMNP_0nTY"
      },
      "execution_count": null,
      "outputs": []
    },
    {
      "cell_type": "code",
      "source": [
        "#aplicamos el one_hot_encoding para tener las salidas\n",
        "#requeridas por el softmax\n",
        "labels_one_hot = tf.keras.utils.to_categorical(labels_encoded, num_classes=2)"
      ],
      "metadata": {
        "id": "zNfTVrOw1fzz"
      },
      "execution_count": null,
      "outputs": []
    },
    {
      "cell_type": "code",
      "source": [
        "#ajustamos la resolución de las imágenes para homogenizar y\n",
        "#bajar la carga computacional del procesamiento\n",
        "\n",
        "#definimos el tamaño\n",
        "img_size = (128,128)"
      ],
      "metadata": {
        "id": "GFi9KQlL2V22"
      },
      "execution_count": 20,
      "outputs": []
    },
    {
      "cell_type": "code",
      "source": [
        "#definimos una función de carga y procesamiento de las imágenes\n",
        "\n",
        "def load_and_preprocess_image(filename, img_size):\n",
        "  # abrimos y cargamos cada imagen en la variable img\n",
        "  img = Image.open(filename)\n",
        "  # cambiamos el tamaño de la imagen\n",
        "  img = img.resize(img_size)\n",
        "  # ponemos los valores de intensidad entre 0 y 1\n",
        "  img = np.array(img).astype('float32') / 255\n",
        "  if img.shape[-1] == 4: #comprobamos si existe canal alfa\n",
        "    img = img[...,:3]\n",
        "  return img"
      ],
      "metadata": {
        "id": "E45cti4R3o40"
      },
      "execution_count": 17,
      "outputs": []
    },
    {
      "cell_type": "code",
      "source": [
        "#cargamos las imágenes desde nuestro sistema de archivos\n",
        "\n",
        "#agregamos la extensión a cada nombre de la imagen\n",
        "filenames_with_extension = [fname + \".jpg\" for fname in filenames]\n",
        "#difinimos el directorio con las imágenes\n",
        "image_dir = '/content/drive/MyDrive/Colab Notebooks/Aprendizaje Supervisado 2024 II/fotos/fotos/'\n",
        "#cargamos las imágenes\n",
        "images = np.array([load_and_preprocess_image(os.path.join(image_dir,\n",
        "                                                          fname),img_size) for fname in filenames_with_extension])"
      ],
      "metadata": {
        "id": "WyrxF68y5iUN"
      },
      "execution_count": 21,
      "outputs": []
    },
    {
      "cell_type": "code",
      "source": [
        "images.shape"
      ],
      "metadata": {
        "colab": {
          "base_uri": "https://localhost:8080/"
        },
        "id": "wy3bCHtu7dcl",
        "outputId": "80f142cc-62cf-40fc-cac7-1d78230cba78"
      },
      "execution_count": 22,
      "outputs": [
        {
          "output_type": "execute_result",
          "data": {
            "text/plain": [
              "(92, 128, 128, 3)"
            ]
          },
          "metadata": {},
          "execution_count": 22
        }
      ]
    },
    {
      "cell_type": "code",
      "source": [
        "#si queremos las imágenes del conjunto de datos (no las matrices numéricas)\n",
        "import matplotlib.pyplot as plt\n",
        "plt.imshow(images[91,:,:,:]);"
      ],
      "metadata": {
        "id": "iWsWFMmi8YZD"
      },
      "execution_count": null,
      "outputs": []
    },
    {
      "cell_type": "code",
      "source": [
        "#dividimos nuestro conjunto de imágenes en train y test\n",
        "\n",
        "train_images, test_images, train_labels, test_labels = train_test_split(images,\n",
        "                                                                        labels_one_hot,\n",
        "                                                                        test_size=0.2,\n",
        "                                                                        random_state=42)"
      ],
      "metadata": {
        "id": "3eW9uKDu9O4w"
      },
      "execution_count": 26,
      "outputs": []
    },
    {
      "cell_type": "code",
      "source": [
        "#aplanamos las imágenes\n",
        "train_images = train_images.reshape((train_images.shape[0], img_size[0]*img_size[1]*3))\n",
        "test_images = test_images.reshape((test_images.shape[0], img_size[0]*img_size[1]*3))"
      ],
      "metadata": {
        "id": "YnkWoE719aI1"
      },
      "execution_count": 27,
      "outputs": []
    },
    {
      "cell_type": "code",
      "source": [
        "#construimos el modelo de red neuronal\n",
        "#definimos que el modelo será secuencial (una capa después de la otra)\n",
        "model = models.Sequential()\n",
        "#agregamos las capas de la red\n",
        "model.add(layers.Dense(128, activation = 'relu', input_shape = (img_size[0]*img_size[1]*3,)))\n",
        "model.add(layers.Dense(2, activation = 'softmax'))\n"
      ],
      "metadata": {
        "id": "RHFyiiD4972i"
      },
      "execution_count": 33,
      "outputs": []
    },
    {
      "cell_type": "code",
      "source": [
        "#compilamos el modelo\n",
        "model.compile(optimizer = 'sgd',\n",
        "              loss = 'categorical_crossentropy',\n",
        "              metrics = ['accuracy'])"
      ],
      "metadata": {
        "id": "YttacViK_8h1"
      },
      "execution_count": 34,
      "outputs": []
    },
    {
      "cell_type": "code",
      "source": [
        "#entrenamos el modelo\n",
        "history = model.fit(train_images, train_labels,\n",
        "                    epochs = 20,\n",
        "                    validation_data = (test_images, test_labels))"
      ],
      "metadata": {
        "id": "HmORO2oLAEwq"
      },
      "execution_count": null,
      "outputs": []
    },
    {
      "cell_type": "code",
      "source": [
        "#evaluamos el modelo\n",
        "test_loss, test_acc = model.evaluate(test_images, test_labels)\n",
        "print('Test accuracy:', test_acc)"
      ],
      "metadata": {
        "colab": {
          "base_uri": "https://localhost:8080/"
        },
        "id": "HmDRe-dMAg82",
        "outputId": "e3eea5e4-cdba-44ff-cd04-705eaf417fa6"
      },
      "execution_count": 37,
      "outputs": [
        {
          "output_type": "stream",
          "name": "stdout",
          "text": [
            "\u001b[1m1/1\u001b[0m \u001b[32m━━━━━━━━━━━━━━━━━━━━\u001b[0m\u001b[37m\u001b[0m \u001b[1m0s\u001b[0m 49ms/step - accuracy: 0.7368 - loss: 0.4973\n",
            "Test accuracy: 0.7368420958518982\n"
          ]
        }
      ]
    }
  ]
}